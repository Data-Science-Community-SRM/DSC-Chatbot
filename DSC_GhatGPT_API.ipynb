{
  "nbformat": 4,
  "nbformat_minor": 0,
  "metadata": {
    "colab": {
      "provenance": []
    },
    "kernelspec": {
      "name": "python3",
      "display_name": "Python 3"
    },
    "language_info": {
      "name": "python"
    }
  },
  "cells": [
    {
      "cell_type": "markdown",
      "source": [
        "# Working with ChatGPT API"
      ],
      "metadata": {
        "id": "ez1PZHtz76Yn"
      }
    },
    {
      "cell_type": "markdown",
      "source": [
        "### Installing `openai` library"
      ],
      "metadata": {
        "id": "9D_UWEGa8Ek3"
      }
    },
    {
      "cell_type": "code",
      "execution_count": null,
      "metadata": {
        "id": "O7fj9NSrITHR",
        "collapsed": true,
        "colab": {
          "base_uri": "https://localhost:8080/"
        },
        "outputId": "b2248357-ce4c-4a97-9299-9ca9dbede1c6"
      },
      "outputs": [
        {
          "output_type": "stream",
          "name": "stdout",
          "text": [
            "Collecting openai\n",
            "  Downloading openai-0.27.8-py3-none-any.whl (73 kB)\n",
            "\u001b[?25l     \u001b[90m━━━━━━━━━━━━━━━━━━━━━━━━━━━━━━━━━━━━━━━━\u001b[0m \u001b[32m0.0/73.6 kB\u001b[0m \u001b[31m?\u001b[0m eta \u001b[36m-:--:--\u001b[0m\r\u001b[2K     \u001b[90m━━━━━━━━━━━━━━━━━━━━━━━━━━━━━━━━━━━━━━━━\u001b[0m \u001b[32m73.6/73.6 kB\u001b[0m \u001b[31m4.1 MB/s\u001b[0m eta \u001b[36m0:00:00\u001b[0m\n",
            "\u001b[?25hRequirement already satisfied: requests>=2.20 in /usr/local/lib/python3.10/dist-packages (from openai) (2.27.1)\n",
            "Requirement already satisfied: tqdm in /usr/local/lib/python3.10/dist-packages (from openai) (4.65.0)\n",
            "Requirement already satisfied: aiohttp in /usr/local/lib/python3.10/dist-packages (from openai) (3.8.4)\n",
            "Requirement already satisfied: urllib3<1.27,>=1.21.1 in /usr/local/lib/python3.10/dist-packages (from requests>=2.20->openai) (1.26.16)\n",
            "Requirement already satisfied: certifi>=2017.4.17 in /usr/local/lib/python3.10/dist-packages (from requests>=2.20->openai) (2023.5.7)\n",
            "Requirement already satisfied: charset-normalizer~=2.0.0 in /usr/local/lib/python3.10/dist-packages (from requests>=2.20->openai) (2.0.12)\n",
            "Requirement already satisfied: idna<4,>=2.5 in /usr/local/lib/python3.10/dist-packages (from requests>=2.20->openai) (3.4)\n",
            "Requirement already satisfied: attrs>=17.3.0 in /usr/local/lib/python3.10/dist-packages (from aiohttp->openai) (23.1.0)\n",
            "Requirement already satisfied: multidict<7.0,>=4.5 in /usr/local/lib/python3.10/dist-packages (from aiohttp->openai) (6.0.4)\n",
            "Requirement already satisfied: async-timeout<5.0,>=4.0.0a3 in /usr/local/lib/python3.10/dist-packages (from aiohttp->openai) (4.0.2)\n",
            "Requirement already satisfied: yarl<2.0,>=1.0 in /usr/local/lib/python3.10/dist-packages (from aiohttp->openai) (1.9.2)\n",
            "Requirement already satisfied: frozenlist>=1.1.1 in /usr/local/lib/python3.10/dist-packages (from aiohttp->openai) (1.3.3)\n",
            "Requirement already satisfied: aiosignal>=1.1.2 in /usr/local/lib/python3.10/dist-packages (from aiohttp->openai) (1.3.1)\n",
            "Installing collected packages: openai\n",
            "Successfully installed openai-0.27.8\n"
          ]
        }
      ],
      "source": [
        "!pip install openai"
      ]
    },
    {
      "cell_type": "markdown",
      "source": [
        "### Importing required libraries"
      ],
      "metadata": {
        "id": "aDbBJ9qz8MZd"
      }
    },
    {
      "cell_type": "code",
      "source": [
        "import os\n",
        "import openai"
      ],
      "metadata": {
        "id": "upPPfX_bLgyQ"
      },
      "execution_count": null,
      "outputs": []
    },
    {
      "cell_type": "markdown",
      "source": [
        "### Getting the API key"
      ],
      "metadata": {
        "id": "zvP7UFYS8YlB"
      }
    },
    {
      "cell_type": "code",
      "source": [
        "#@title OPENAI API KEY { run: \"auto\", vertical-output: true, display-mode: \"both\" }\n",
        "\n",
        "#@markdown #### You can create a new API new a [OpenAI's official website](https://platform.openai.com/account/api-keyst)\n",
        "openai_api_key = \"\" #@param {type:\"string\"}\n",
        "if not openai_api_key:\n",
        "  raise Exception(\"Sorry, no api key provided\\n Create a new one at https://platform.openai.com/account/api-keyst\")\n",
        "openai.api_key = openai_api_key"
      ],
      "metadata": {
        "id": "EWcQcZUVvXxW"
      },
      "execution_count": null,
      "outputs": []
    },
    {
      "cell_type": "markdown",
      "source": [
        "### Chat class to keep track of a conversation"
      ],
      "metadata": {
        "id": "ugYS-nCX8ebk"
      }
    },
    {
      "cell_type": "code",
      "source": [
        "class Chat:\n",
        "  def __init__(self):\n",
        "    self.history = [{\"role\": \"system\", \"content\": \"You are a helpful assistant. You have deep knowledge about data sciene and can answer related questions.\"}]\n",
        "  def ask(self, user_prompt):\n",
        "    self.history.append({\"role\": \"user\", \"content\": user_prompt})\n",
        "    gpt_response = self.ask_professor(self.history)\n",
        "    self.history.append({\"role\": \"assistant\", \"content\": gpt_response})\n",
        "    return gpt_response\n",
        "  def ask_professor(self, prompt):\n",
        "    completion = openai.ChatCompletion.create(\n",
        "      model=\"gpt-3.5-turbo\",\n",
        "      messages=prompt\n",
        "    )\n",
        "\n",
        "    return completion.choices[0].message.content.strip()\n"
      ],
      "metadata": {
        "id": "WZ85-KlVb90v"
      },
      "execution_count": null,
      "outputs": []
    },
    {
      "cell_type": "markdown",
      "source": [
        "### Function to call `Chat` class and simulate a conversation"
      ],
      "metadata": {
        "id": "55Rh68oM8ptk"
      }
    },
    {
      "cell_type": "code",
      "source": [
        "def simulate_chat():\n",
        "  user_chat = Chat()\n",
        "  user_prompt = input(\"User: \")\n",
        "  while not user_prompt.lower() == 'end':\n",
        "    response = user_chat.ask(user_prompt)\n",
        "    print(\"Assistant:\", response)\n",
        "    user_prompt = input(\"User: \")\n",
        "    if user_prompt.lower() == 'new':\n",
        "      user_chat = Chat()\n",
        "      user_prompt = input(\"User: \")"
      ],
      "metadata": {
        "id": "UdsfPKpBbpQ9"
      },
      "execution_count": null,
      "outputs": []
    },
    {
      "cell_type": "markdown",
      "source": [
        "### Calling `simulate` function"
      ],
      "metadata": {
        "id": "LdbtOqDm809D"
      }
    },
    {
      "cell_type": "code",
      "source": [
        "simulate_chat()"
      ],
      "metadata": {
        "id": "GmNq1n3Fkxc3",
        "colab": {
          "base_uri": "https://localhost:8080/"
        },
        "outputId": "4f5270d2-a3bd-458b-8397-4589276383cd"
      },
      "execution_count": null,
      "outputs": [
        {
          "name": "stdout",
          "output_type": "stream",
          "text": [
            "User: I am harsh. What can you do?\n",
            "Assistant: Hello Harsh! As a helpful assistant, I can assist you with a variety of tasks related to data science. I can help you understand concepts in data science, provide explanations and examples, answer your questions, and guide you in solving problems related to data analysis, machine learning, programming languages like Python or R, statistical analysis, data visualization, and more. Feel free to ask me anything you need assistance with!\n",
            "User: Tell me about data science and machine learning.\n",
            "Assistant: Data science is a multidisciplinary field that combines scientific methods, processes, algorithms, and systems to extract insights and knowledge from structured and unstructured data. It involves various techniques and tools, including mathematics, statistics, computer science, and domain knowledge.\n",
            "\n",
            "On the other hand, machine learning is a subset of data science that focuses on developing algorithms and models that enable computers to learn from data and make predictions or decisions without being explicitly programmed. It is an application of artificial intelligence (AI) that utilizes statistical techniques to allow systems to automatically learn and improve from experience.\n",
            "\n",
            "Machine learning algorithms can be broadly categorized into three types: supervised learning, unsupervised learning, and reinforcement learning. \n",
            "\n",
            "- Supervised Learning: This involves training a model on labeled data, where the algorithm learns patterns from input variables and corresponding output labels. The goal is to predict the labels of new, unseen data.\n",
            "\n",
            "- Unsupervised Learning: In this type, the algorithm is trained on unlabeled data and aims to discover patterns, relationships, or structures within the data. It can be used for tasks like clustering, dimensionality reduction, or anomaly detection.\n",
            "\n",
            "- Reinforcement Learning: This involves training an agent to interact with an environment and learn by receiving rewards or punishments for its actions. The agent learns to maximize its cumulative reward by making optimal decisions.\n",
            "\n",
            "Machine learning finds applications in various domains like image and speech recognition, natural language processing, recommendation systems, fraud detection, autonomous vehicles, and many more. It helps businesses and organizations analyze large volumes of data, uncover insights, and make data-driven decisions.\n",
            "\n",
            "Data science and machine learning have become increasingly popular due to the exponential growth of data and advancements in computing power. They offer immense opportunities to extract meaningful information, solve complex problems, and drive innovation across industries.\n",
            "User: end\n"
          ]
        }
      ]
    },
    {
      "cell_type": "code",
      "source": [],
      "metadata": {
        "id": "mtnQSC_e9jMs"
      },
      "execution_count": null,
      "outputs": []
    }
  ]
}